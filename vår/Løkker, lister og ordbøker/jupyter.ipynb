{
 "cells": [
  {
   "cell_type": "code",
   "execution_count": 12,
   "metadata": {},
   "outputs": [
    {
     "name": "stdout",
     "output_type": "stream",
     "text": [
      "10\n",
      "9\n",
      "8\n",
      "7\n",
      "6\n",
      "5\n",
      "4\n",
      "3\n",
      "2\n",
      "1\n",
      "2\n",
      "4\n",
      "6\n",
      "8\n",
      "10\n",
      "12\n",
      "14\n",
      "16\n",
      "18\n",
      "20\n"
     ]
    }
   ],
   "source": [
    "# while-løkker\n",
    "# while bruker vi for å gå igjennom noe helt til det ikke er riktig\n",
    "teller = 10\n",
    "while teller > 0:\n",
    "    print(teller)\n",
    "    teller -= 1\n",
    "\n",
    "# Tell alle partall fra 0 til 20\n",
    "teller = 2\n",
    "while teller <= 20:\n",
    "    print(teller)\n",
    "    teller += 2 \n",
    "\n"
   ]
  },
  {
   "cell_type": "code",
   "execution_count": 17,
   "metadata": {},
   "outputs": [
    {
     "name": "stdout",
     "output_type": "stream",
     "text": [
      "1\n",
      "2\n",
      "3\n",
      "4\n",
      "5\n",
      "6\n",
      "7\n",
      "8\n",
      "9\n",
      "10\n",
      "J\n",
      "a\n",
      ",\n",
      " \n",
      "v\n",
      "i\n",
      " \n",
      "e\n",
      "l\n",
      "s\n",
      "k\n",
      "e\n",
      "r\n",
      "Erling\n",
      "Ada\n",
      "Emelie\n"
     ]
    }
   ],
   "source": [
    "# for-løkker\n",
    "# brukes for å gå gjennom en skevens, en samling med *ting* F.eks en liste med tall eller en ordbok med nøkler.\n",
    "for tall in [1,2,3,4,5,6,7,8,9,10]:\n",
    "    print(tall)\n",
    "\n",
    "for bokstav in \"Ja, vi elsker\":\n",
    "    print(bokstav)\n",
    "\n",
    "for elev in [\"Erling\", \"Ada\", \"Emelie\"]:\n",
    "    print (elev)"
   ]
  },
  {
   "cell_type": "code",
   "execution_count": 39,
   "metadata": {},
   "outputs": [
    {
     "name": "stdout",
     "output_type": "stream",
     "text": [
      "1\n",
      "2\n",
      "3\n",
      "4\n",
      "5\n",
      "6\n",
      "7\n",
      "8\n",
      "9\n",
      "10\n",
      "1\n",
      "2\n",
      "3\n",
      "4\n",
      "5\n",
      "6\n",
      "7\n",
      "8\n",
      "9\n",
      "10\n",
      "0\n",
      "1\n",
      "2\n",
      "3\n",
      "4\n",
      "5\n",
      "6\n",
      "7\n",
      "10\n",
      "9\n",
      "8\n",
      "7\n",
      "6\n",
      "5\n",
      "4\n",
      "3\n",
      "2\n",
      "1\n"
     ]
    }
   ],
   "source": [
    "# Range\n",
    "# range(start, slutt_før, steg) er en innebygd funksjon som gir oss en sekvens med tall, \n",
    "# som vi kan bruke i al\n",
    "\n",
    "for tall in [1,2,3,4,5,6,7,8,9,10]: # dette blir slitsom i lengden! Her kan vi heller bruke range\n",
    "    print(tall)\n",
    "\n",
    "for tall in range(1,11,1):  #for hvert tall i sekvensen som starter på 1, slutter før 4 og øker med 1\n",
    "    print(tall)\n",
    "\n",
    "# eksertptips\n",
    "# hvis vi starter på 0, trenger vi ikke skrive start-argument\n",
    "# hvis vi skal øke med 1, trenger vi ikke skrive steg argument\n",
    "# 1. lag en for-løkke som printer tallene fra 0 til 7\n",
    "for tall in range(8): \n",
    "    print(tall)\n",
    "\n",
    "# 2. lag en for-løkke som printer tallene fra 10 til 1\n",
    "for tall in range(10,0,-1): \n",
    "    print(tall)\n",
    "\n",
    "\n",
    "    "
   ]
  },
  {
   "cell_type": "code",
   "execution_count": 48,
   "metadata": {},
   "outputs": [
    {
     "name": "stdout",
     "output_type": "stream",
     "text": [
      "IT1: 6\n",
      "IT2: 6\n",
      "1T: 4\n",
      "R1: 5\n",
      "R2: 4\n"
     ]
    }
   ],
   "source": [
    "fag = [\"IT1\", \"IT2\", \"1T\", \"R1\", \"R2\"]\n",
    "karakterer = [6,6,4,5,4]\n",
    "\n",
    "# Oppgave: print fag og karakter på samme linje - bruk for tall in range()\n",
    "# eks: IT1: 6\n",
    "# eks: IT2: 6\n",
    "\n",
    "for tall in range(len(fag)):\n",
    "    #print(fag[tall],karakterer[tall])\n",
    "    print(f\"{fag[tall]}: {karakterer[tall]}\")\n"
   ]
  },
  {
   "cell_type": "code",
   "execution_count": 64,
   "metadata": {},
   "outputs": [
    {
     "name": "stdout",
     "output_type": "stream",
     "text": [
      "mattelærer\n",
      "favorittall\n",
      "\n",
      "Nøkler\n",
      "navn: David Ravi\n",
      "alder: 43\n",
      "yrke: mattelærer\n",
      "favorittaktivitet: hjelpe emilioe med matte\n",
      "favorittdrikke: databrus\n",
      "123: favorittall\n"
     ]
    }
   ],
   "source": [
    "ravi = { #krøll parangses fordi det er ordbok og ikke liste\n",
    "    \"navn\": \"David Ravi\",\n",
    "    \"alder\": 43,\n",
    "    \"yrke\": \"mattelærer\",\n",
    "    \"favorittaktivitet\": \"hjelpe emilioe med matte\",\n",
    "    \"favorittdrikke\": \"databrus\",\n",
    "    123: \"favorittall\" #vi kan også bruke andre typer nøkler i en ordbok\n",
    "    #nøkkel:verdi\n",
    "}\n",
    " \n",
    "print(ravi[\"yrke\"])\n",
    "print(ravi[123])\n",
    " \n",
    "print()\n",
    "print(\"Nøkler\")\n",
    "#en for-løkke som looper gjennom en ordbok vil gå gjennom alle nøklene\n",
    "#variabelen som opprettes i en for-løkke som går gjennom en ordbok\n",
    "#vil etter tur ha verdiene til nøklene i ordboka\n",
    "for nøkkel in ravi:\n",
    "    #print(nøkkel, ravi[nøkkel])\n",
    "    print(f\"{nøkkel}: {ravi[nøkkel]}\")\n",
    "    \n",
    " \n",
    "#alternativt kan vi bruke .items() og to variabler for å gå gjennom alt innholdet i en ordbok\n",
    "# for nøkkel, verdi in ravi.items():\n",
    "#     print(nøkkel, verdi)"
   ]
  },
  {
   "cell_type": "code",
   "execution_count": 71,
   "metadata": {},
   "outputs": [
    {
     "name": "stdout",
     "output_type": "stream",
     "text": [
      "Meryl Streep (73)\n"
     ]
    }
   ],
   "source": [
    "skuespillere = [\n",
    "    {\"navn\": \"Tom Hanks\", \"alder\": 66},\n",
    "    {\"navn\": \"Meryl Streep\", \"alder\": 73},\n",
    "    {\"navn\": \"Leonardo DiCaprio\", \"alder\": 48},\n",
    "    {\"navn\": \"Julia Roberts\", \"alder\": 55},\n",
    "    {\"navn\": \"Denzel Washington\", \"alder\": 67},\n",
    "    {\"navn\": \"Nicole Kidman\", \"alder\": 55},\n",
    "    {\"navn\": \"Brad Pitt\", \"alder\": 59},\n",
    "    {\"navn\": \"Charlize Theron\", \"alder\": 47},\n",
    "    {\"navn\": \"Johnny Depp\", \"alder\": 59},\n",
    "    {\"navn\": \"Emma Stone\", \"alder\": 34},\n",
    "]\n",
    "\n",
    "favoritt = skuespillere[1]\n",
    "# favoritt- skuespillere[-9] # alternativ måte å hente ut på\n",
    "print(f\"{favoritt['navn']} ({favoritt['alder']})\")"
   ]
  },
  {
   "cell_type": "code",
   "execution_count": 73,
   "metadata": {},
   "outputs": [
    {
     "name": "stdout",
     "output_type": "stream",
     "text": [
      "Tom Hanks (66)\n",
      "Meryl Streep (73)\n",
      "Leonardo DiCaprio (48)\n",
      "Julia Roberts (55)\n",
      "Denzel Washington (67)\n",
      "Nicole Kidman (55)\n",
      "Brad Pitt (59)\n",
      "Charlize Theron (47)\n",
      "Johnny Depp (59)\n",
      "Emma Stone (34)\n"
     ]
    }
   ],
   "source": [
    "for s in skuespillere:\n",
    "    print(f\"{s['navn']} ({s['alder']})\")"
   ]
  },
  {
   "cell_type": "code",
   "execution_count": 76,
   "metadata": {},
   "outputs": [
    {
     "name": "stdout",
     "output_type": "stream",
     "text": [
      "{'navn': 'Meryl Streep', 'alder': 73}\n",
      "56.3\n"
     ]
    }
   ],
   "source": [
    "eldst = skuespillere[0]\n",
    "totalalder = 0\n",
    "for skuespiller in skuespillere: \n",
    "    totalalder += skuespiller [\"alder\"]\n",
    "    if skuespiller [\"alder\"] > eldst [\"alder\"]:\n",
    "        eldst = skuespiller\n",
    "print (eldst)\n",
    "snitt = totalalder / len(skuespillere)\n",
    "print (snitt)"
   ]
  }
 ],
 "metadata": {
  "kernelspec": {
   "display_name": "Python 3",
   "language": "python",
   "name": "python3"
  },
  "language_info": {
   "codemirror_mode": {
    "name": "ipython",
    "version": 3
   },
   "file_extension": ".py",
   "mimetype": "text/x-python",
   "name": "python",
   "nbconvert_exporter": "python",
   "pygments_lexer": "ipython3",
   "version": "3.11.2"
  }
 },
 "nbformat": 4,
 "nbformat_minor": 2
}
